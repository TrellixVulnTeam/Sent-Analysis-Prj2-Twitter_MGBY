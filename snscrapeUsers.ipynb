{
 "cells": [
  {
   "cell_type": "code",
   "execution_count": 2,
   "metadata": {
    "collapsed": false,
    "pycharm": {
     "name": "#%%\n"
    }
   },
   "outputs": [],
   "source": [
    "# imports\n",
    "import snscrape.modules.twitter as sntwitter\n",
    "import pandas as pd\n",
    "import csv"
   ]
  },
  {
   "cell_type": "code",
   "execution_count": 3,
   "metadata": {
    "collapsed": false,
    "pycharm": {
     "name": "#%%\n"
    }
   },
   "outputs": [],
   "source": [
    "# creates an empty list\n",
    "tweets_list = []\n",
    "# this method searches tweets from a list of users\n",
    "# currently only have sample users but feel free to experiment with any relevant accounts\n",
    "users_name = ['nytimes', 'elonmusk']\n",
    "# loop through the list\n",
    "for n, k in enumerate(users_name):\n",
    "    for i,tweet in enumerate(sntwitter.TwitterSearchScraper('from:{}'.format(users_name[n])).get_items()):\n",
    "# here you can change the number of tweets\n",
    "        if i > 100:\n",
    "            break\n",
    "# this is the data we are appending to the list\n",
    "        tweets_list.append([tweet.date, tweet.id, tweet.content, tweet.user.username])"
   ]
  },
  {
   "cell_type": "code",
   "execution_count": 4,
   "metadata": {
    "collapsed": false,
    "pycharm": {
     "name": "#%%\n"
    }
   },
   "outputs": [
    {
     "data": {
      "text/html": [
       "<div>\n",
       "<style scoped>\n",
       "    .dataframe tbody tr th:only-of-type {\n",
       "        vertical-align: middle;\n",
       "    }\n",
       "\n",
       "    .dataframe tbody tr th {\n",
       "        vertical-align: top;\n",
       "    }\n",
       "\n",
       "    .dataframe thead th {\n",
       "        text-align: right;\n",
       "    }\n",
       "</style>\n",
       "<table border=\"1\" class=\"dataframe\">\n",
       "  <thead>\n",
       "    <tr style=\"text-align: right;\">\n",
       "      <th></th>\n",
       "      <th>Datetime</th>\n",
       "      <th>Tweet Id</th>\n",
       "      <th>Text</th>\n",
       "      <th>Username</th>\n",
       "    </tr>\n",
       "  </thead>\n",
       "  <tbody>\n",
       "    <tr>\n",
       "      <th>0</th>\n",
       "      <td>2022-08-21 01:25:03+00:00</td>\n",
       "      <td>1561162434009858049</td>\n",
       "      <td>Even though the cryptocurrency market has crat...</td>\n",
       "      <td>nytimes</td>\n",
       "    </tr>\n",
       "    <tr>\n",
       "      <th>1</th>\n",
       "      <td>2022-08-21 00:55:03+00:00</td>\n",
       "      <td>1561154884275249152</td>\n",
       "      <td>Norah Vincent, who chronicled passing as a man...</td>\n",
       "      <td>nytimes</td>\n",
       "    </tr>\n",
       "    <tr>\n",
       "      <th>2</th>\n",
       "      <td>2022-08-21 00:25:06+00:00</td>\n",
       "      <td>1561147344946663424</td>\n",
       "      <td>Daryl McCormack won raves for his role opposit...</td>\n",
       "      <td>nytimes</td>\n",
       "    </tr>\n",
       "    <tr>\n",
       "      <th>3</th>\n",
       "      <td>2022-08-20 23:25:06+00:00</td>\n",
       "      <td>1561132245200633859</td>\n",
       "      <td>John Turturro and Christopher Walken drew upon...</td>\n",
       "      <td>nytimes</td>\n",
       "    </tr>\n",
       "    <tr>\n",
       "      <th>4</th>\n",
       "      <td>2022-08-20 23:00:24+00:00</td>\n",
       "      <td>1561126028902277120</td>\n",
       "      <td>Sprucing up a boring dorm room is relatively e...</td>\n",
       "      <td>nytimes</td>\n",
       "    </tr>\n",
       "    <tr>\n",
       "      <th>...</th>\n",
       "      <td>...</td>\n",
       "      <td>...</td>\n",
       "      <td>...</td>\n",
       "      <td>...</td>\n",
       "    </tr>\n",
       "    <tr>\n",
       "      <th>197</th>\n",
       "      <td>2022-08-09 20:34:56+00:00</td>\n",
       "      <td>1557103156286238720</td>\n",
       "      <td>@WholeMarsBlog Tesla Fremont team is kicking a**!</td>\n",
       "      <td>elonmusk</td>\n",
       "    </tr>\n",
       "    <tr>\n",
       "      <th>198</th>\n",
       "      <td>2022-08-09 20:18:09+00:00</td>\n",
       "      <td>1557098930919198720</td>\n",
       "      <td>@SciGuySpace @BryceSpaceTech SpaceX Falcon tea...</td>\n",
       "      <td>elonmusk</td>\n",
       "    </tr>\n",
       "    <tr>\n",
       "      <th>199</th>\n",
       "      <td>2022-08-09 14:32:57+00:00</td>\n",
       "      <td>1557012057396252672</td>\n",
       "      <td>@EvasTeslaSPlaid Happens to almost everyone</td>\n",
       "      <td>elonmusk</td>\n",
       "    </tr>\n",
       "    <tr>\n",
       "      <th>200</th>\n",
       "      <td>2022-08-09 14:28:55+00:00</td>\n",
       "      <td>1557011046241816578</td>\n",
       "      <td>@cb_doge @garyblack00 @MartinViecha 🤣</td>\n",
       "      <td>elonmusk</td>\n",
       "    </tr>\n",
       "    <tr>\n",
       "      <th>201</th>\n",
       "      <td>2022-08-08 18:37:32+00:00</td>\n",
       "      <td>1556711224980566017</td>\n",
       "      <td>@garyblack00 @MartinViecha Growing at 50%/year...</td>\n",
       "      <td>elonmusk</td>\n",
       "    </tr>\n",
       "  </tbody>\n",
       "</table>\n",
       "<p>202 rows × 4 columns</p>\n",
       "</div>"
      ],
      "text/plain": [
       "                     Datetime             Tweet Id  \\\n",
       "0   2022-08-21 01:25:03+00:00  1561162434009858049   \n",
       "1   2022-08-21 00:55:03+00:00  1561154884275249152   \n",
       "2   2022-08-21 00:25:06+00:00  1561147344946663424   \n",
       "3   2022-08-20 23:25:06+00:00  1561132245200633859   \n",
       "4   2022-08-20 23:00:24+00:00  1561126028902277120   \n",
       "..                        ...                  ...   \n",
       "197 2022-08-09 20:34:56+00:00  1557103156286238720   \n",
       "198 2022-08-09 20:18:09+00:00  1557098930919198720   \n",
       "199 2022-08-09 14:32:57+00:00  1557012057396252672   \n",
       "200 2022-08-09 14:28:55+00:00  1557011046241816578   \n",
       "201 2022-08-08 18:37:32+00:00  1556711224980566017   \n",
       "\n",
       "                                                  Text  Username  \n",
       "0    Even though the cryptocurrency market has crat...   nytimes  \n",
       "1    Norah Vincent, who chronicled passing as a man...   nytimes  \n",
       "2    Daryl McCormack won raves for his role opposit...   nytimes  \n",
       "3    John Turturro and Christopher Walken drew upon...   nytimes  \n",
       "4    Sprucing up a boring dorm room is relatively e...   nytimes  \n",
       "..                                                 ...       ...  \n",
       "197  @WholeMarsBlog Tesla Fremont team is kicking a**!  elonmusk  \n",
       "198  @SciGuySpace @BryceSpaceTech SpaceX Falcon tea...  elonmusk  \n",
       "199        @EvasTeslaSPlaid Happens to almost everyone  elonmusk  \n",
       "200              @cb_doge @garyblack00 @MartinViecha 🤣  elonmusk  \n",
       "201  @garyblack00 @MartinViecha Growing at 50%/year...  elonmusk  \n",
       "\n",
       "[202 rows x 4 columns]"
      ]
     },
     "execution_count": 4,
     "metadata": {},
     "output_type": "execute_result"
    }
   ],
   "source": [
    "# data frame visualization of the data\n",
    "df = pd.DataFrame(tweets_list, columns=['Datetime', 'Tweet Id', 'Text', 'Username'])\n",
    "df"
   ]
  },
  {
   "cell_type": "code",
   "execution_count": 5,
   "metadata": {
    "collapsed": false,
    "pycharm": {
     "name": "#%%\n"
    }
   },
   "outputs": [],
   "source": [
    "# this writes the data to a csv file\n",
    "with open(\"tweetsList.csv\", \"w\", encoding=\"utf-8\") as f:\n",
    "    writer = csv.writer(f)\n",
    "    for i in tweets_list:\n",
    "        writer.writerow(i)"
   ]
  }
 ],
 "metadata": {
  "kernelspec": {
   "display_name": "Python 3.9.4 ('myvenv': venv)",
   "language": "python",
   "name": "python3"
  },
  "language_info": {
   "codemirror_mode": {
    "name": "ipython",
    "version": 3
   },
   "file_extension": ".py",
   "mimetype": "text/x-python",
   "name": "python",
   "nbconvert_exporter": "python",
   "pygments_lexer": "ipython3",
   "version": "3.9.4"
  },
  "vscode": {
   "interpreter": {
    "hash": "f2797b10c063395b8d6ffa27f1a745946ca7d67d52d98dfd232ed5b47f4e6129"
   }
  }
 },
 "nbformat": 4,
 "nbformat_minor": 0
}
