{
 "cells": [
  {
   "cell_type": "code",
   "execution_count": 5,
   "outputs": [],
   "source": [
    "# imports\n",
    "import snscrape.modules.twitter as sntwitter\n",
    "import pandas as pd\n",
    "import csv"
   ],
   "metadata": {
    "collapsed": false,
    "pycharm": {
     "name": "#%%\n"
    }
   }
  },
  {
   "cell_type": "code",
   "execution_count": 6,
   "outputs": [],
   "source": [
    "# creates an empty list\n",
    "tweets_list = []\n",
    "# this method searches tweets from a list of users\n",
    "# currently only have sample users but feel free to experiment with any relevant accounts\n",
    "users_name = ['nytimes', 'elonmusk']\n",
    "# loop through the list\n",
    "for n, k in enumerate(users_name):\n",
    "    for i,tweet in enumerate(sntwitter.TwitterSearchScraper('from:{}'.format(users_name[n])).get_items()):\n",
    "# here you can change the number of tweets\n",
    "        if i > 100:\n",
    "            break\n",
    "# this is the data we are appending to the list\n",
    "        tweets_list.append([tweet.date, tweet.id, tweet.content, tweet.user.username])"
   ],
   "metadata": {
    "collapsed": false,
    "pycharm": {
     "name": "#%%\n"
    }
   }
  },
  {
   "cell_type": "code",
   "execution_count": 7,
   "outputs": [
    {
     "data": {
      "text/plain": "                     Datetime             Tweet Id  \\\n0   2022-08-19 02:30:10+00:00  1560454043796914177   \n1   2022-08-19 02:00:06+00:00  1560446478488838144   \n2   2022-08-19 01:40:05+00:00  1560441440790056960   \n3   2022-08-19 01:30:17+00:00  1560438971896926211   \n4   2022-08-19 01:20:03+00:00  1560436397231726594   \n..                        ...                  ...   \n197 2022-08-06 20:55:54+00:00  1556021266943033344   \n198 2022-08-06 20:51:30+00:00  1556020160082939906   \n199 2022-08-06 16:20:33+00:00  1555951972641116163   \n200 2022-08-06 16:18:59+00:00  1555951580339372032   \n201 2022-08-06 16:15:29+00:00  1555950698252181507   \n\n                                                  Text  Username  \n0    After years of researching bed sheets — from c...   nytimes  \n1    In Opinion\\n\\nEvery director of the FBI has be...   nytimes  \n2    Russia and Ukraine have accused each other of ...   nytimes  \n3    A woman at the center of an R. Kelly trial in ...   nytimes  \n4    An infection caused by a brain-eating amoeba m...   nytimes  \n..                                                 ...       ...  \n197                                 @cb_doge @paraga 🤣  elonmusk  \n198           Saxon James Musk https://t.co/d7FKw4iQIU  elonmusk  \n199                                         @cb_doge 💯  elonmusk  \n200  Less than 5% of Twitter daily users are fake/spam  elonmusk  \n201  @Andst7 I hereby challenge @paraga to a public...  elonmusk  \n\n[202 rows x 4 columns]",
      "text/html": "<div>\n<style scoped>\n    .dataframe tbody tr th:only-of-type {\n        vertical-align: middle;\n    }\n\n    .dataframe tbody tr th {\n        vertical-align: top;\n    }\n\n    .dataframe thead th {\n        text-align: right;\n    }\n</style>\n<table border=\"1\" class=\"dataframe\">\n  <thead>\n    <tr style=\"text-align: right;\">\n      <th></th>\n      <th>Datetime</th>\n      <th>Tweet Id</th>\n      <th>Text</th>\n      <th>Username</th>\n    </tr>\n  </thead>\n  <tbody>\n    <tr>\n      <th>0</th>\n      <td>2022-08-19 02:30:10+00:00</td>\n      <td>1560454043796914177</td>\n      <td>After years of researching bed sheets — from c...</td>\n      <td>nytimes</td>\n    </tr>\n    <tr>\n      <th>1</th>\n      <td>2022-08-19 02:00:06+00:00</td>\n      <td>1560446478488838144</td>\n      <td>In Opinion\\n\\nEvery director of the FBI has be...</td>\n      <td>nytimes</td>\n    </tr>\n    <tr>\n      <th>2</th>\n      <td>2022-08-19 01:40:05+00:00</td>\n      <td>1560441440790056960</td>\n      <td>Russia and Ukraine have accused each other of ...</td>\n      <td>nytimes</td>\n    </tr>\n    <tr>\n      <th>3</th>\n      <td>2022-08-19 01:30:17+00:00</td>\n      <td>1560438971896926211</td>\n      <td>A woman at the center of an R. Kelly trial in ...</td>\n      <td>nytimes</td>\n    </tr>\n    <tr>\n      <th>4</th>\n      <td>2022-08-19 01:20:03+00:00</td>\n      <td>1560436397231726594</td>\n      <td>An infection caused by a brain-eating amoeba m...</td>\n      <td>nytimes</td>\n    </tr>\n    <tr>\n      <th>...</th>\n      <td>...</td>\n      <td>...</td>\n      <td>...</td>\n      <td>...</td>\n    </tr>\n    <tr>\n      <th>197</th>\n      <td>2022-08-06 20:55:54+00:00</td>\n      <td>1556021266943033344</td>\n      <td>@cb_doge @paraga 🤣</td>\n      <td>elonmusk</td>\n    </tr>\n    <tr>\n      <th>198</th>\n      <td>2022-08-06 20:51:30+00:00</td>\n      <td>1556020160082939906</td>\n      <td>Saxon James Musk https://t.co/d7FKw4iQIU</td>\n      <td>elonmusk</td>\n    </tr>\n    <tr>\n      <th>199</th>\n      <td>2022-08-06 16:20:33+00:00</td>\n      <td>1555951972641116163</td>\n      <td>@cb_doge 💯</td>\n      <td>elonmusk</td>\n    </tr>\n    <tr>\n      <th>200</th>\n      <td>2022-08-06 16:18:59+00:00</td>\n      <td>1555951580339372032</td>\n      <td>Less than 5% of Twitter daily users are fake/spam</td>\n      <td>elonmusk</td>\n    </tr>\n    <tr>\n      <th>201</th>\n      <td>2022-08-06 16:15:29+00:00</td>\n      <td>1555950698252181507</td>\n      <td>@Andst7 I hereby challenge @paraga to a public...</td>\n      <td>elonmusk</td>\n    </tr>\n  </tbody>\n</table>\n<p>202 rows × 4 columns</p>\n</div>"
     },
     "execution_count": 7,
     "metadata": {},
     "output_type": "execute_result"
    }
   ],
   "source": [
    "# data frame visualization of the data\n",
    "df = pd.DataFrame(tweets_list, columns=['Datetime', 'Tweet Id', 'Text', 'Username'])\n",
    "df"
   ],
   "metadata": {
    "collapsed": false,
    "pycharm": {
     "name": "#%%\n"
    }
   }
  },
  {
   "cell_type": "code",
   "execution_count": 8,
   "outputs": [],
   "source": [
    "# this writes the data to a csv file\n",
    "with open(\"tweetsList.csv\", \"w\", encoding=\"utf-8\") as f:\n",
    "    writer = csv.writer(f)\n",
    "    for i in tweets_list:\n",
    "        writer.writerow(i)"
   ],
   "metadata": {
    "collapsed": false,
    "pycharm": {
     "name": "#%%\n"
    }
   }
  }
 ],
 "metadata": {
  "kernelspec": {
   "display_name": "Python 3",
   "language": "python",
   "name": "python3"
  },
  "language_info": {
   "codemirror_mode": {
    "name": "ipython",
    "version": 2
   },
   "file_extension": ".py",
   "mimetype": "text/x-python",
   "name": "python",
   "nbconvert_exporter": "python",
   "pygments_lexer": "ipython2",
   "version": "2.7.6"
  }
 },
 "nbformat": 4,
 "nbformat_minor": 0
}