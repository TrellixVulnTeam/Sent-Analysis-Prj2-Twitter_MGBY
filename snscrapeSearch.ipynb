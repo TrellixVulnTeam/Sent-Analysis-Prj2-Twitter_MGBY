{
 "cells": [
  {
   "cell_type": "code",
   "execution_count": 2,
   "metadata": {
    "collapsed": false,
    "pycharm": {
     "name": "#%%\n"
    }
   },
   "outputs": [],
   "source": [
    "# imports\n",
    "import snscrape.modules.twitter as sntwitter\n",
    "import pandas as pd\n",
    "import csv"
   ]
  },
  {
   "cell_type": "code",
   "execution_count": 3,
   "metadata": {
    "collapsed": false,
    "pycharm": {
     "name": "#%%\n"
    }
   },
   "outputs": [],
   "source": [
    "#empty list to hold tweets\n",
    "tweets_list = []\n",
    "# loop through the scraper, this looks at a search term for example AAPl and you can also specify the date\n",
    "for i, tweet in enumerate(sntwitter.TwitterSearchScraper(\"AAPL since:2022-07-01 until:2022-07-31\").get_items()):\n",
    "# here the tweet limit can be set feel free to play around with the number\n",
    "# please note that more tweets will take longer to process\n",
    "    if i > 100:\n",
    "        break\n",
    "# adds the specified info to the list\n",
    "# note that there are other parameters with additional data we can use also experiment with\n",
    "    tweets_list.append([tweet.date, tweet.id, tweet.content, tweet.user.username])"
   ]
  },
  {
   "cell_type": "code",
   "execution_count": 4,
   "metadata": {
    "collapsed": false,
    "pycharm": {
     "name": "#%%\n"
    }
   },
   "outputs": [
    {
     "data": {
      "text/html": [
       "<div>\n",
       "<style scoped>\n",
       "    .dataframe tbody tr th:only-of-type {\n",
       "        vertical-align: middle;\n",
       "    }\n",
       "\n",
       "    .dataframe tbody tr th {\n",
       "        vertical-align: top;\n",
       "    }\n",
       "\n",
       "    .dataframe thead th {\n",
       "        text-align: right;\n",
       "    }\n",
       "</style>\n",
       "<table border=\"1\" class=\"dataframe\">\n",
       "  <thead>\n",
       "    <tr style=\"text-align: right;\">\n",
       "      <th></th>\n",
       "      <th>Datetime</th>\n",
       "      <th>Tweet Id</th>\n",
       "      <th>Text</th>\n",
       "      <th>Username</th>\n",
       "    </tr>\n",
       "  </thead>\n",
       "  <tbody>\n",
       "    <tr>\n",
       "      <th>0</th>\n",
       "      <td>2022-07-30 23:59:44+00:00</td>\n",
       "      <td>1553530815245582337</td>\n",
       "      <td>If history is my guide, SPX will print sub 300...</td>\n",
       "      <td>ryan554</td>\n",
       "    </tr>\n",
       "    <tr>\n",
       "      <th>1</th>\n",
       "      <td>2022-07-30 23:57:12+00:00</td>\n",
       "      <td>1553530176889393152</td>\n",
       "      <td>@SuburbanDrone I’ll stick with my AAPL</td>\n",
       "      <td>FBMSubVet</td>\n",
       "    </tr>\n",
       "    <tr>\n",
       "      <th>2</th>\n",
       "      <td>2022-07-30 23:56:17+00:00</td>\n",
       "      <td>1553529946982588417</td>\n",
       "      <td>ROTH IRA 1:JULY END\\nTech positions: $AMZN $AM...</td>\n",
       "      <td>Pharmdca</td>\n",
       "    </tr>\n",
       "    <tr>\n",
       "      <th>3</th>\n",
       "      <td>2022-07-30 23:56:16+00:00</td>\n",
       "      <td>1553529945741074433</td>\n",
       "      <td>LT Account: JULY END\\nTop Tech positions: $AMD...</td>\n",
       "      <td>Pharmdca</td>\n",
       "    </tr>\n",
       "    <tr>\n",
       "      <th>4</th>\n",
       "      <td>2022-07-30 23:54:16+00:00</td>\n",
       "      <td>1553529439501287425</td>\n",
       "      <td>Dow Jones #Futures: #StockMarket Rally Passes ...</td>\n",
       "      <td>TradingAllIn</td>\n",
       "    </tr>\n",
       "    <tr>\n",
       "      <th>...</th>\n",
       "      <td>...</td>\n",
       "      <td>...</td>\n",
       "      <td>...</td>\n",
       "      <td>...</td>\n",
       "    </tr>\n",
       "    <tr>\n",
       "      <th>96</th>\n",
       "      <td>2022-07-30 20:51:23+00:00</td>\n",
       "      <td>1553483415847964672</td>\n",
       "      <td>Trade Smart, Automate Entry till Exits on Opti...</td>\n",
       "      <td>DratSmartTrader</td>\n",
       "    </tr>\n",
       "    <tr>\n",
       "      <th>97</th>\n",
       "      <td>2022-07-30 20:48:03+00:00</td>\n",
       "      <td>1553482578044264448</td>\n",
       "      <td>#aapl stock up big this week on great earnings...</td>\n",
       "      <td>Briscoe_photo</td>\n",
       "    </tr>\n",
       "    <tr>\n",
       "      <th>98</th>\n",
       "      <td>2022-07-30 20:47:56+00:00</td>\n",
       "      <td>1553482548759724036</td>\n",
       "      <td>#meta #metaverse #Bitcoin #btc $btc #Ethereum ...</td>\n",
       "      <td>shortterm13</td>\n",
       "    </tr>\n",
       "    <tr>\n",
       "      <th>99</th>\n",
       "      <td>2022-07-30 20:47:37+00:00</td>\n",
       "      <td>1553482469239840768</td>\n",
       "      <td>#meta #metaverse #Bitcoin #btc $btc #Ethereum ...</td>\n",
       "      <td>shortterm13</td>\n",
       "    </tr>\n",
       "    <tr>\n",
       "      <th>100</th>\n",
       "      <td>2022-07-30 20:47:26+00:00</td>\n",
       "      <td>1553482422884470786</td>\n",
       "      <td>.@TooManyZooz you were amazing tonight @newmor...</td>\n",
       "      <td>ugo_aapl</td>\n",
       "    </tr>\n",
       "  </tbody>\n",
       "</table>\n",
       "<p>101 rows × 4 columns</p>\n",
       "</div>"
      ],
      "text/plain": [
       "                     Datetime             Tweet Id  \\\n",
       "0   2022-07-30 23:59:44+00:00  1553530815245582337   \n",
       "1   2022-07-30 23:57:12+00:00  1553530176889393152   \n",
       "2   2022-07-30 23:56:17+00:00  1553529946982588417   \n",
       "3   2022-07-30 23:56:16+00:00  1553529945741074433   \n",
       "4   2022-07-30 23:54:16+00:00  1553529439501287425   \n",
       "..                        ...                  ...   \n",
       "96  2022-07-30 20:51:23+00:00  1553483415847964672   \n",
       "97  2022-07-30 20:48:03+00:00  1553482578044264448   \n",
       "98  2022-07-30 20:47:56+00:00  1553482548759724036   \n",
       "99  2022-07-30 20:47:37+00:00  1553482469239840768   \n",
       "100 2022-07-30 20:47:26+00:00  1553482422884470786   \n",
       "\n",
       "                                                  Text         Username  \n",
       "0    If history is my guide, SPX will print sub 300...          ryan554  \n",
       "1               @SuburbanDrone I’ll stick with my AAPL        FBMSubVet  \n",
       "2    ROTH IRA 1:JULY END\\nTech positions: $AMZN $AM...         Pharmdca  \n",
       "3    LT Account: JULY END\\nTop Tech positions: $AMD...         Pharmdca  \n",
       "4    Dow Jones #Futures: #StockMarket Rally Passes ...     TradingAllIn  \n",
       "..                                                 ...              ...  \n",
       "96   Trade Smart, Automate Entry till Exits on Opti...  DratSmartTrader  \n",
       "97   #aapl stock up big this week on great earnings...    Briscoe_photo  \n",
       "98   #meta #metaverse #Bitcoin #btc $btc #Ethereum ...      shortterm13  \n",
       "99   #meta #metaverse #Bitcoin #btc $btc #Ethereum ...      shortterm13  \n",
       "100  .@TooManyZooz you were amazing tonight @newmor...         ugo_aapl  \n",
       "\n",
       "[101 rows x 4 columns]"
      ]
     },
     "execution_count": 4,
     "metadata": {},
     "output_type": "execute_result"
    }
   ],
   "source": [
    "# adds the info in the list to a data frame to display it\n",
    "df = pd.DataFrame(tweets_list, columns=['Datetime', 'Tweet Id', 'Text', 'Username'])\n",
    "df"
   ]
  },
  {
   "cell_type": "code",
   "execution_count": 5,
   "metadata": {
    "collapsed": false,
    "pycharm": {
     "name": "#%%\n"
    }
   },
   "outputs": [],
   "source": [
    "# this writes the data to a csv file\n",
    "with open(\"tweetsSearch.csv\", \"w\", encoding=\"utf-8\") as f:\n",
    "    writer = csv.writer(f)\n",
    "    for i in tweets_list:\n",
    "        writer.writerow(i)"
   ]
  }
 ],
 "metadata": {
  "kernelspec": {
   "display_name": "Python 3.9.4 ('myvenv': venv)",
   "language": "python",
   "name": "python3"
  },
  "language_info": {
   "codemirror_mode": {
    "name": "ipython",
    "version": 3
   },
   "file_extension": ".py",
   "mimetype": "text/x-python",
   "name": "python",
   "nbconvert_exporter": "python",
   "pygments_lexer": "ipython3",
   "version": "3.9.4"
  },
  "vscode": {
   "interpreter": {
    "hash": "f2797b10c063395b8d6ffa27f1a745946ca7d67d52d98dfd232ed5b47f4e6129"
   }
  }
 },
 "nbformat": 4,
 "nbformat_minor": 0
}
